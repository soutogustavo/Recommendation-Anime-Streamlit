{
 "cells": [
  {
   "cell_type": "markdown",
   "id": "322e2e1b-ca4f-463a-971b-c9e21186abe3",
   "metadata": {},
   "source": [
    "# Anime Recommender System\n",
    "\n",
    "This is a competition from [kaggle](https://www.kaggle.com/datasets/CooperUnion/anime-recommendations-database/data).<br>\n",
    "You can find more information about the dataset in the above link. \n",
    "\n",
    "The **main goal** is building a better anime recommendation system based only on user viewing history. <br>\n",
    "Therefore, I am going to implement a **Collaborative Filtering** technique.\n"
   ]
  },
  {
   "cell_type": "code",
   "execution_count": 14,
   "id": "94811d45-5f89-4770-a42d-1f771f349519",
   "metadata": {
    "tags": []
   },
   "outputs": [],
   "source": [
    "import random\n",
    "import warnings\n",
    "import numpy as np\n",
    "import pandas as pd\n",
    "import seaborn as sns\n",
    "import matplotlib.pyplot as plt\n",
    "\n",
    "from surprise import SVD\n",
    "from surprise import Reader\n",
    "from surprise import Dataset\n",
    "from surprise import accuracy\n",
    "from surprise.model_selection import train_test_split\n",
    "\n",
    "from collections import defaultdict\n",
    "\n",
    "warnings.filterwarnings(\"ignore\")"
   ]
  },
  {
   "cell_type": "code",
   "execution_count": 2,
   "id": "5879737a-874c-4a59-ae9c-a4a1c67d552b",
   "metadata": {
    "tags": []
   },
   "outputs": [
    {
     "data": {
      "text/html": [
       "<div>\n",
       "<style scoped>\n",
       "    .dataframe tbody tr th:only-of-type {\n",
       "        vertical-align: middle;\n",
       "    }\n",
       "\n",
       "    .dataframe tbody tr th {\n",
       "        vertical-align: top;\n",
       "    }\n",
       "\n",
       "    .dataframe thead th {\n",
       "        text-align: right;\n",
       "    }\n",
       "</style>\n",
       "<table border=\"1\" class=\"dataframe\">\n",
       "  <thead>\n",
       "    <tr style=\"text-align: right;\">\n",
       "      <th></th>\n",
       "      <th>anime_id</th>\n",
       "      <th>name</th>\n",
       "      <th>genre</th>\n",
       "      <th>type</th>\n",
       "      <th>episodes</th>\n",
       "      <th>rating</th>\n",
       "      <th>members</th>\n",
       "    </tr>\n",
       "  </thead>\n",
       "  <tbody>\n",
       "    <tr>\n",
       "      <th>0</th>\n",
       "      <td>32281</td>\n",
       "      <td>Kimi no Na wa.</td>\n",
       "      <td>Drama, Romance, School, Supernatural</td>\n",
       "      <td>Movie</td>\n",
       "      <td>1</td>\n",
       "      <td>9.37</td>\n",
       "      <td>200630</td>\n",
       "    </tr>\n",
       "    <tr>\n",
       "      <th>1</th>\n",
       "      <td>5114</td>\n",
       "      <td>Fullmetal Alchemist: Brotherhood</td>\n",
       "      <td>Action, Adventure, Drama, Fantasy, Magic, Mili...</td>\n",
       "      <td>TV</td>\n",
       "      <td>64</td>\n",
       "      <td>9.26</td>\n",
       "      <td>793665</td>\n",
       "    </tr>\n",
       "    <tr>\n",
       "      <th>2</th>\n",
       "      <td>28977</td>\n",
       "      <td>Gintama°</td>\n",
       "      <td>Action, Comedy, Historical, Parody, Samurai, S...</td>\n",
       "      <td>TV</td>\n",
       "      <td>51</td>\n",
       "      <td>9.25</td>\n",
       "      <td>114262</td>\n",
       "    </tr>\n",
       "    <tr>\n",
       "      <th>3</th>\n",
       "      <td>9253</td>\n",
       "      <td>Steins;Gate</td>\n",
       "      <td>Sci-Fi, Thriller</td>\n",
       "      <td>TV</td>\n",
       "      <td>24</td>\n",
       "      <td>9.17</td>\n",
       "      <td>673572</td>\n",
       "    </tr>\n",
       "    <tr>\n",
       "      <th>4</th>\n",
       "      <td>9969</td>\n",
       "      <td>Gintama&amp;#039;</td>\n",
       "      <td>Action, Comedy, Historical, Parody, Samurai, S...</td>\n",
       "      <td>TV</td>\n",
       "      <td>51</td>\n",
       "      <td>9.16</td>\n",
       "      <td>151266</td>\n",
       "    </tr>\n",
       "  </tbody>\n",
       "</table>\n",
       "</div>"
      ],
      "text/plain": [
       "   anime_id                              name  \\\n",
       "0     32281                    Kimi no Na wa.   \n",
       "1      5114  Fullmetal Alchemist: Brotherhood   \n",
       "2     28977                          Gintama°   \n",
       "3      9253                       Steins;Gate   \n",
       "4      9969                     Gintama&#039;   \n",
       "\n",
       "                                               genre   type episodes  rating  \\\n",
       "0               Drama, Romance, School, Supernatural  Movie        1    9.37   \n",
       "1  Action, Adventure, Drama, Fantasy, Magic, Mili...     TV       64    9.26   \n",
       "2  Action, Comedy, Historical, Parody, Samurai, S...     TV       51    9.25   \n",
       "3                                   Sci-Fi, Thriller     TV       24    9.17   \n",
       "4  Action, Comedy, Historical, Parody, Samurai, S...     TV       51    9.16   \n",
       "\n",
       "   members  \n",
       "0   200630  \n",
       "1   793665  \n",
       "2   114262  \n",
       "3   673572  \n",
       "4   151266  "
      ]
     },
     "metadata": {},
     "output_type": "display_data"
    },
    {
     "data": {
      "text/html": [
       "<div>\n",
       "<style scoped>\n",
       "    .dataframe tbody tr th:only-of-type {\n",
       "        vertical-align: middle;\n",
       "    }\n",
       "\n",
       "    .dataframe tbody tr th {\n",
       "        vertical-align: top;\n",
       "    }\n",
       "\n",
       "    .dataframe thead th {\n",
       "        text-align: right;\n",
       "    }\n",
       "</style>\n",
       "<table border=\"1\" class=\"dataframe\">\n",
       "  <thead>\n",
       "    <tr style=\"text-align: right;\">\n",
       "      <th></th>\n",
       "      <th>user_id</th>\n",
       "      <th>anime_id</th>\n",
       "      <th>rating</th>\n",
       "    </tr>\n",
       "  </thead>\n",
       "  <tbody>\n",
       "    <tr>\n",
       "      <th>0</th>\n",
       "      <td>1</td>\n",
       "      <td>20</td>\n",
       "      <td>-1</td>\n",
       "    </tr>\n",
       "    <tr>\n",
       "      <th>1</th>\n",
       "      <td>1</td>\n",
       "      <td>24</td>\n",
       "      <td>-1</td>\n",
       "    </tr>\n",
       "    <tr>\n",
       "      <th>2</th>\n",
       "      <td>1</td>\n",
       "      <td>79</td>\n",
       "      <td>-1</td>\n",
       "    </tr>\n",
       "    <tr>\n",
       "      <th>3</th>\n",
       "      <td>1</td>\n",
       "      <td>226</td>\n",
       "      <td>-1</td>\n",
       "    </tr>\n",
       "    <tr>\n",
       "      <th>4</th>\n",
       "      <td>1</td>\n",
       "      <td>241</td>\n",
       "      <td>-1</td>\n",
       "    </tr>\n",
       "  </tbody>\n",
       "</table>\n",
       "</div>"
      ],
      "text/plain": [
       "   user_id  anime_id  rating\n",
       "0        1        20      -1\n",
       "1        1        24      -1\n",
       "2        1        79      -1\n",
       "3        1       226      -1\n",
       "4        1       241      -1"
      ]
     },
     "metadata": {},
     "output_type": "display_data"
    }
   ],
   "source": [
    "# Load datasets\n",
    "anime_info_data = pd.read_csv(\"data/anime.csv\")\n",
    "anime_ratings_data = pd.read_csv(\"data/rating.csv\")\n",
    "\n",
    "display(anime_info_data.head())\n",
    "display(anime_ratings_data.head())"
   ]
  },
  {
   "cell_type": "markdown",
   "id": "46a797a0-314f-4b4c-a032-7faf99db9a51",
   "metadata": {},
   "source": [
    "## Data Preparation\n",
    "\n",
    "- Keep not rated values as a separate dataset for further use."
   ]
  },
  {
   "cell_type": "code",
   "execution_count": 3,
   "id": "9a36a4fa-ea4f-4603-b2da-931d09ab8b70",
   "metadata": {
    "tags": []
   },
   "outputs": [],
   "source": [
    "#. Select watched-not-rating\n",
    "non_rating_data = anime_ratings_data[anime_ratings_data[\"rating\"] == -1]\n",
    "\n",
    "#. Select rating-data\n",
    "anime_ratings_data = anime_ratings_data[\n",
    "    ~anime_ratings_data.index.isin(non_rating_data.index)]"
   ]
  },
  {
   "cell_type": "markdown",
   "id": "6784cb92-ff92-4419-83eb-62afd6bfdb4c",
   "metadata": {},
   "source": [
    "## Anime Recommender System\n",
    "\n",
    "For the recommender system, I used **collaborating filtering** to recommend animes."
   ]
  },
  {
   "cell_type": "code",
   "execution_count": 4,
   "id": "a7ca6d40-9480-4e29-b8e0-fd61e20c27cf",
   "metadata": {
    "tags": []
   },
   "outputs": [
    {
     "data": {
      "text/plain": [
       "<Figure size 1600x600 with 0 Axes>"
      ]
     },
     "metadata": {},
     "output_type": "display_data"
    },
    {
     "data": {
      "image/png": "[encoded data removed]",
      "text/plain": [
       "<Figure size 500x500 with 1 Axes>"
      ]
     },
     "metadata": {},
     "output_type": "display_data"
    }
   ],
   "source": [
    "#. Plot distribution of movie ratings\n",
    "plt.figure(figsize=(16,6))\n",
    "\n",
    "ax = sns.displot(data=anime_ratings_data, x=\"rating\")\n",
    "ax.set(title=\"Distribution of Anime Ratings\")\n",
    "plt.tight_layout();"
   ]
  },
  {
   "cell_type": "markdown",
   "id": "66195da9-da0c-46b0-a265-008d7df1f140",
   "metadata": {},
   "source": [
    "### Prerare dataset\n",
    "\n",
    "- Create reader object\n",
    "- Select features and load the data into a Dataset object.\n",
    "- Split the data into train and test datasets."
   ]
  },
  {
   "cell_type": "code",
   "execution_count": 5,
   "id": "289688fe-9d1f-42ea-9e9b-eab5083fbe88",
   "metadata": {
    "tags": []
   },
   "outputs": [],
   "source": [
    "#. Suprise reader\n",
    "reader = Reader(rating_scale=(1,10))\n",
    "\n",
    "#. Load data as Dataset object\n",
    "rating_features = [\"user_id\", \"anime_id\", \"rating\"]\n",
    "data = Dataset.load_from_df(anime_ratings_data[rating_features], reader)\n",
    "\n",
    "#. Split data\n",
    "trainset, testset = train_test_split(data=data, test_size=.20)"
   ]
  },
  {
   "cell_type": "markdown",
   "id": "e046d4da-ea8b-4b97-b296-a8aec9f28fb8",
   "metadata": {},
   "source": [
    "### Train model\n",
    "\n",
    "- Train a Singular Value Decomposition (SVD) model"
   ]
  },
  {
   "cell_type": "code",
   "execution_count": 24,
   "id": "d80897e0-0ccc-4d18-a349-c1f992fbd145",
   "metadata": {
    "tags": []
   },
   "outputs": [
    {
     "name": "stdout",
     "output_type": "stream",
     "text": [
      "RMSE: 1.1333\n",
      "MAE:  0.8447\n"
     ]
    }
   ],
   "source": [
    "recommendation_model = SVD()\n",
    "recommendation_model.fit(trainset)\n",
    "predictions = recommendation_model.test(testset)\n",
    "\n",
    "#. Check metrics\n",
    "accuracy.rmse(predictions)\n",
    "accuracy.mae(predictions);"
   ]
  },
  {
   "cell_type": "markdown",
   "id": "40af238d-63fd-471a-a23c-e9774ab90c1b",
   "metadata": {},
   "source": [
    "### Postprocessing recommendations\n",
    "\n",
    "- Get predictions/recommendations.\n",
    "- Remove the animes that the user watched, but didn't rate.\n",
    "- Sort the results.\n",
    "- Select the Top-5 recommendations.\n",
    "- Merge recommendations and anime information."
   ]
  },
  {
   "cell_type": "code",
   "execution_count": 13,
   "id": "ee38239a-2b41-4c35-a5a5-260857545199",
   "metadata": {
    "tags": []
   },
   "outputs": [
    {
     "data": {
      "text/html": [
       "<div>\n",
       "<style scoped>\n",
       "    .dataframe tbody tr th:only-of-type {\n",
       "        vertical-align: middle;\n",
       "    }\n",
       "\n",
       "    .dataframe tbody tr th {\n",
       "        vertical-align: top;\n",
       "    }\n",
       "\n",
       "    .dataframe thead th {\n",
       "        text-align: right;\n",
       "    }\n",
       "</style>\n",
       "<table border=\"1\" class=\"dataframe\">\n",
       "  <thead>\n",
       "    <tr style=\"text-align: right;\">\n",
       "      <th></th>\n",
       "      <th>user_id</th>\n",
       "      <th>anime_id</th>\n",
       "      <th>rating_est</th>\n",
       "      <th>name</th>\n",
       "      <th>genre</th>\n",
       "      <th>type</th>\n",
       "    </tr>\n",
       "  </thead>\n",
       "  <tbody>\n",
       "    <tr>\n",
       "      <th>0</th>\n",
       "      <td>73515</td>\n",
       "      <td>5205</td>\n",
       "      <td>10.00</td>\n",
       "      <td>Kara no Kyoukai 7: Satsujin Kousatsu (Kou)</td>\n",
       "      <td>Action, Mystery, Romance, Supernatural, Thriller</td>\n",
       "      <td>Movie</td>\n",
       "    </tr>\n",
       "    <tr>\n",
       "      <th>1</th>\n",
       "      <td>73515</td>\n",
       "      <td>1</td>\n",
       "      <td>9.76</td>\n",
       "      <td>Cowboy Bebop</td>\n",
       "      <td>Action, Adventure, Comedy, Drama, Sci-Fi, Space</td>\n",
       "      <td>TV</td>\n",
       "    </tr>\n",
       "    <tr>\n",
       "      <th>2</th>\n",
       "      <td>73515</td>\n",
       "      <td>1575</td>\n",
       "      <td>9.68</td>\n",
       "      <td>Code Geass: Hangyaku no Lelouch</td>\n",
       "      <td>Action, Mecha, Military, School, Sci-Fi, Super...</td>\n",
       "      <td>TV</td>\n",
       "    </tr>\n",
       "    <tr>\n",
       "      <th>3</th>\n",
       "      <td>73515</td>\n",
       "      <td>5</td>\n",
       "      <td>9.62</td>\n",
       "      <td>Cowboy Bebop: Tengoku no Tobira</td>\n",
       "      <td>Action, Drama, Mystery, Sci-Fi, Space</td>\n",
       "      <td>Movie</td>\n",
       "    </tr>\n",
       "    <tr>\n",
       "      <th>4</th>\n",
       "      <td>73515</td>\n",
       "      <td>3784</td>\n",
       "      <td>9.61</td>\n",
       "      <td>Evangelion: 2.0 You Can (Not) Advance</td>\n",
       "      <td>Action, Mecha, Sci-Fi</td>\n",
       "      <td>Movie</td>\n",
       "    </tr>\n",
       "  </tbody>\n",
       "</table>\n",
       "</div>"
      ],
      "text/plain": [
       "   user_id  anime_id  rating_est                                        name  \\\n",
       "0    73515      5205       10.00  Kara no Kyoukai 7: Satsujin Kousatsu (Kou)   \n",
       "1    73515         1        9.76                                Cowboy Bebop   \n",
       "2    73515      1575        9.68             Code Geass: Hangyaku no Lelouch   \n",
       "3    73515         5        9.62             Cowboy Bebop: Tengoku no Tobira   \n",
       "4    73515      3784        9.61       Evangelion: 2.0 You Can (Not) Advance   \n",
       "\n",
       "                                               genre   type  \n",
       "0   Action, Mystery, Romance, Supernatural, Thriller  Movie  \n",
       "1    Action, Adventure, Comedy, Drama, Sci-Fi, Space     TV  \n",
       "2  Action, Mecha, Military, School, Sci-Fi, Super...     TV  \n",
       "3              Action, Drama, Mystery, Sci-Fi, Space  Movie  \n",
       "4                              Action, Mecha, Sci-Fi  Movie  "
      ]
     },
     "metadata": {},
     "output_type": "display_data"
    },
    {
     "name": "stdout",
     "output_type": "stream",
     "text": [
      "CPU times: user 2min 26s, sys: 1.16 s, total: 2min 27s\n",
      "Wall time: 2min 27s\n"
     ]
    }
   ],
   "source": [
    "%%time\n",
    "\n",
    "#. Group estimations\n",
    "predictions_group = defaultdict(list)\n",
    "for uid, iid, true_r, est, _ in predictions:\n",
    "    predictions_group[uid].append((iid, est))    \n",
    "\n",
    "num_rec = 5\n",
    "anime_recommendations = pd.DataFrame()\n",
    "\n",
    "for uid, user_ratings in predictions_group.items():\n",
    "    #. Remove watched-non-rated animes\n",
    "    user_non_rated = non_rating_data.loc[\n",
    "        non_rating_data[\"user_id\"] == uid, \"anime_id\"].to_list()\n",
    "    mask = [val not in user_non_rated for val in user_ratings]\n",
    "    mask = np.array(mask, dtype=np.bool_)\n",
    "    user_ratings = np.array(user_ratings)[mask]\n",
    "    \n",
    "    #. Create DataFrame\n",
    "    n = len(user_ratings)\n",
    "    udf = pd.DataFrame([uid]*n, columns=[\"user_id\"])\n",
    "    udf.loc[:,\"anime_id\"] = [val[0] for val in user_ratings]\n",
    "    udf.loc[:,\"rating_est\"] = [val[1] for val in user_ratings]\n",
    "    \n",
    "    #. Append recommendations\n",
    "    anime_recommendations = pd.concat(\n",
    "        [anime_recommendations, udf], ignore_index=True)\n",
    "    \n",
    "#. Sort recommendations\n",
    "anime_recommendations = anime_recommendations.sort_values(\n",
    "    [\"user_id\", \"rating_est\"], ascending=False)\n",
    "\n",
    "#. Select recommendations\n",
    "num_rec = 5\n",
    "anime_recommendations_sel = anime_recommendations\\\n",
    "   .groupby(\"user_id\").head(num_rec).reset_index(drop=True)\n",
    "\n",
    "#. Data Transformations\n",
    "anime_recommendations_sel[\"anime_id\"] = anime_recommendations_sel[\"anime_id\"].astype(int)\n",
    "anime_recommendations_sel[\"rating_est\"] = anime_recommendations_sel[\"rating_est\"].round(2)\n",
    "\n",
    "#. Merge datasets\n",
    "anime_features = [\"anime_id\", \"name\", \"genre\", \"type\"]\n",
    "anime_recommendations_res = pd.merge(\n",
    "    anime_recommendations_sel, \n",
    "    anime_info_data[anime_features], on=\"anime_id\", how=\"left\")\n",
    "\n",
    "display(anime_recommendations_res.head(5))"
   ]
  },
  {
   "cell_type": "markdown",
   "id": "45e1a5bc",
   "metadata": {},
   "source": [
    "## Check results\n",
    "\n",
    "- Pick a random user.\n",
    "- Select user recommendations\n",
    "- Show recommendations."
   ]
  },
  {
   "cell_type": "code",
   "execution_count": 19,
   "id": "8373c625-269f-461d-8ffa-51d9c731d506",
   "metadata": {
    "tags": []
   },
   "outputs": [
    {
     "data": {
      "text/html": [
       "<div>\n",
       "<style scoped>\n",
       "    .dataframe tbody tr th:only-of-type {\n",
       "        vertical-align: middle;\n",
       "    }\n",
       "\n",
       "    .dataframe tbody tr th {\n",
       "        vertical-align: top;\n",
       "    }\n",
       "\n",
       "    .dataframe thead th {\n",
       "        text-align: right;\n",
       "    }\n",
       "</style>\n",
       "<table border=\"1\" class=\"dataframe\">\n",
       "  <thead>\n",
       "    <tr style=\"text-align: right;\">\n",
       "      <th></th>\n",
       "      <th>user_id</th>\n",
       "      <th>anime_id</th>\n",
       "      <th>rating_est</th>\n",
       "      <th>name</th>\n",
       "      <th>genre</th>\n",
       "      <th>type</th>\n",
       "    </tr>\n",
       "  </thead>\n",
       "  <tbody>\n",
       "    <tr>\n",
       "      <th>1623</th>\n",
       "      <td>73050</td>\n",
       "      <td>4155</td>\n",
       "      <td>9.88</td>\n",
       "      <td>One Piece Film: Strong World</td>\n",
       "      <td>Action, Adventure, Comedy, Drama, Fantasy, Sho...</td>\n",
       "      <td>Movie</td>\n",
       "    </tr>\n",
       "    <tr>\n",
       "      <th>1624</th>\n",
       "      <td>73050</td>\n",
       "      <td>4898</td>\n",
       "      <td>9.81</td>\n",
       "      <td>Kuroshitsuji</td>\n",
       "      <td>Action, Comedy, Demons, Fantasy, Historical, S...</td>\n",
       "      <td>TV</td>\n",
       "    </tr>\n",
       "    <tr>\n",
       "      <th>1625</th>\n",
       "      <td>73050</td>\n",
       "      <td>16904</td>\n",
       "      <td>9.80</td>\n",
       "      <td>K: Missing Kings</td>\n",
       "      <td>Action, Super Power, Supernatural</td>\n",
       "      <td>Movie</td>\n",
       "    </tr>\n",
       "    <tr>\n",
       "      <th>1626</th>\n",
       "      <td>73050</td>\n",
       "      <td>21995</td>\n",
       "      <td>9.47</td>\n",
       "      <td>Ao Haru Ride</td>\n",
       "      <td>Comedy, Drama, Romance, School, Shoujo, Slice ...</td>\n",
       "      <td>TV</td>\n",
       "    </tr>\n",
       "    <tr>\n",
       "      <th>1627</th>\n",
       "      <td>73050</td>\n",
       "      <td>22125</td>\n",
       "      <td>9.41</td>\n",
       "      <td>Kuroko no Basket: Mou Ikkai Yarimasen ka</td>\n",
       "      <td>Comedy, School, Shounen, Sports</td>\n",
       "      <td>Special</td>\n",
       "    </tr>\n",
       "  </tbody>\n",
       "</table>\n",
       "</div>"
      ],
      "text/plain": [
       "      user_id  anime_id  rating_est                                      name  \\\n",
       "1623    73050      4155        9.88              One Piece Film: Strong World   \n",
       "1624    73050      4898        9.81                              Kuroshitsuji   \n",
       "1625    73050     16904        9.80                          K: Missing Kings   \n",
       "1626    73050     21995        9.47                              Ao Haru Ride   \n",
       "1627    73050     22125        9.41  Kuroko no Basket: Mou Ikkai Yarimasen ka   \n",
       "\n",
       "                                                  genre     type  \n",
       "1623  Action, Adventure, Comedy, Drama, Fantasy, Sho...    Movie  \n",
       "1624  Action, Comedy, Demons, Fantasy, Historical, S...       TV  \n",
       "1625                  Action, Super Power, Supernatural    Movie  \n",
       "1626  Comedy, Drama, Romance, School, Shoujo, Slice ...       TV  \n",
       "1627                    Comedy, School, Shounen, Sports  Special  "
      ]
     },
     "metadata": {},
     "output_type": "display_data"
    }
   ],
   "source": [
    "#. Select user\n",
    "users = anime_recommendations_res[\"user_id\"].unique()\n",
    "user_id = random.choice(users)\n",
    "\n",
    "#. Select user recommendations\n",
    "user_recommendations = anime_recommendations_res[\n",
    "    anime_recommendations_res[\"user_id\"] == user_id]\n",
    "\n",
    "display(user_recommendations)"
   ]
  },
  {
   "cell_type": "markdown",
   "id": "a805ec53",
   "metadata": {},
   "source": [
    "### Save results\n",
    "- Save the results into a parquet file."
   ]
  },
  {
   "cell_type": "code",
   "execution_count": 25,
   "id": "31cf4154",
   "metadata": {},
   "outputs": [],
   "source": [
    "anime_recommendations_res.to_parquet(\"data/recommendations_results.parquet\")"
   ]
  },
  {
   "cell_type": "markdown",
   "id": "8717379a-5b21-4061-b937-42b6548acdad",
   "metadata": {},
   "source": [
    "___"
   ]
  }
 ],
 "metadata": {
  "kernelspec": {
   "display_name": "DScience",
   "language": "python",
   "name": "python3"
  },
  "language_info": {
   "codemirror_mode": {
    "name": "ipython",
    "version": 3
   },
   "file_extension": ".py",
   "mimetype": "text/x-python",
   "name": "python",
   "nbconvert_exporter": "python",
   "pygments_lexer": "ipython3",
   "version": "3.10.12"
  }
 },
 "nbformat": 4,
 "nbformat_minor": 5
}
